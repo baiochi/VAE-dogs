{
 "cells": [
  {
   "cell_type": "markdown",
   "metadata": {},
   "source": [
    "# Convolutional VAE"
   ]
  },
  {
   "cell_type": "code",
   "execution_count": null,
   "metadata": {},
   "outputs": [],
   "source": [
    "!pip install tensorflow-probability\n",
    "\n",
    "# to generate gifs\n",
    "!pip install imageio\n",
    "!pip install git+https://github.com/tensorflow/docs"
   ]
  },
  {
   "cell_type": "code",
   "execution_count": 3,
   "metadata": {},
   "outputs": [
    {
     "data": {
      "text/html": [
       "<details>\n",
       "<summary>Click to view session information</summary>\n",
       "<pre>\n",
       "-----\n",
       "PIL                         9.2.0\n",
       "imageio                     2.19.3\n",
       "matplotlib                  3.5.1\n",
       "numpy                       1.21.5\n",
       "session_info                1.0.0\n",
       "tensorflow                  2.10.0\n",
       "tensorflow_probability      0.18.0\n",
       "-----\n",
       "</pre>\n",
       "<details>\n",
       "<summary>Click to view modules imported as dependencies</summary>\n",
       "<pre>\n",
       "OpenSSL                                     22.0.0\n",
       "PyObjCTools                                 NA\n",
       "aa8f2297d25b4dc6fd3d98411eb3ba53823c4f42    NA\n",
       "absl                                        NA\n",
       "appnope                                     0.1.2\n",
       "asttokens                                   NA\n",
       "astunparse                                  1.6.3\n",
       "backcall                                    0.2.0\n",
       "bcrypt                                      3.2.0\n",
       "boto3                                       1.24.28\n",
       "botocore                                    1.27.28\n",
       "bottleneck                                  1.3.5\n",
       "brotli                                      NA\n",
       "certifi                                     2022.09.14\n",
       "cffi                                        1.15.1\n",
       "chardet                                     4.0.0\n",
       "charset_normalizer                          2.0.4\n",
       "cloudpickle                                 2.0.0\n",
       "colorama                                    0.4.5\n",
       "cryptography                                37.0.1\n",
       "cycler                                      0.10.0\n",
       "cython_runtime                              NA\n",
       "dateutil                                    2.8.2\n",
       "debugpy                                     1.5.1\n",
       "decorator                                   5.1.1\n",
       "defusedxml                                  0.7.1\n",
       "dill                                        0.3.1.1\n",
       "executing                                   0.9.0\n",
       "flatbuffers                                 22.9.24\n",
       "fsspec                                      2022.7.1\n",
       "gast                                        NA\n",
       "google                                      NA\n",
       "h5py                                        3.7.0\n",
       "idna                                        3.3\n",
       "importlib_metadata                          NA\n",
       "ipykernel                                   6.15.2\n",
       "ipython_genutils                            0.2.0\n",
       "jedi                                        0.18.1\n",
       "jmespath                                    0.10.0\n",
       "jupyter_server                              1.18.1\n",
       "keras                                       2.10.0\n",
       "kiwisolver                                  1.4.2\n",
       "lz4                                         3.1.3\n",
       "matplotlib_inline                           0.1.6\n",
       "mkl                                         2.4.0\n",
       "mpl_toolkits                                NA\n",
       "numexpr                                     2.8.3\n",
       "opt_einsum                                  v3.3.0\n",
       "packaging                                   21.3\n",
       "pandas                                      1.4.4\n",
       "parso                                       0.8.3\n",
       "pexpect                                     4.8.0\n",
       "pickle5                                     NA\n",
       "pickleshare                                 0.7.5\n",
       "pkg_resources                               NA\n",
       "prompt_toolkit                              3.0.20\n",
       "psutil                                      5.9.0\n",
       "ptyprocess                                  0.7.0\n",
       "pure_eval                                   0.2.2\n",
       "pyarrow                                     7.0.0\n",
       "pydev_ipython                               NA\n",
       "pydevconsole                                NA\n",
       "pydevd                                      2.6.0\n",
       "pydevd_concurrency_analyser                 NA\n",
       "pydevd_file_utils                           NA\n",
       "pydevd_plugins                              NA\n",
       "pydevd_tracing                              NA\n",
       "pygments                                    2.11.2\n",
       "pyparsing                                   3.0.9\n",
       "pytz                                        2022.1\n",
       "requests                                    2.28.1\n",
       "scipy                                       1.7.3\n",
       "setuptools                                  63.4.1\n",
       "six                                         1.16.0\n",
       "snappy                                      NA\n",
       "socks                                       1.7.1\n",
       "sphinxcontrib                               NA\n",
       "stack_data                                  0.2.0\n",
       "tblib                                       1.7.0\n",
       "tensorboard                                 2.10.1\n",
       "termcolor                                   1.1.0\n",
       "tornado                                     6.1\n",
       "traitlets                                   5.1.1\n",
       "tree                                        0.1.7\n",
       "typing_extensions                           NA\n",
       "urllib3                                     1.26.11\n",
       "wcwidth                                     0.2.5\n",
       "wrapt                                       1.12.1\n",
       "zipp                                        NA\n",
       "zmq                                         23.2.0\n",
       "zope                                        NA\n",
       "</pre>\n",
       "</details> <!-- seems like this ends pre, so might as well be explicit -->\n",
       "<pre>\n",
       "-----\n",
       "IPython             8.4.0\n",
       "jupyter_client      6.1.12\n",
       "jupyter_core        4.10.0\n",
       "jupyterlab          3.4.4\n",
       "notebook            6.4.12\n",
       "-----\n",
       "Python 3.9.12 (main, Apr  5 2022, 01:53:17) [Clang 12.0.0 ]\n",
       "macOS-10.15.7-x86_64-i386-64bit\n",
       "-----\n",
       "Session information updated at 2022-09-27 21:57\n",
       "</pre>\n",
       "</details>"
      ],
      "text/plain": [
       "<IPython.core.display.HTML object>"
      ]
     },
     "execution_count": 3,
     "metadata": {},
     "output_type": "execute_result"
    }
   ],
   "source": [
    "from IPython import display\n",
    "\n",
    "import glob\n",
    "import imageio\n",
    "import matplotlib.pyplot as plt\n",
    "import numpy as np\n",
    "import PIL\n",
    "import tensorflow as tf\n",
    "import tensorflow_probability as tfp\n",
    "import time\n",
    "import session_info\n",
    "\n",
    "session_info.show()"
   ]
  },
  {
   "cell_type": "markdown",
   "metadata": {},
   "source": [
    "## Prepare data"
   ]
  },
  {
   "cell_type": "code",
   "execution_count": 4,
   "metadata": {},
   "outputs": [],
   "source": [
    "(train_images, _), (test_images, _) = tf.keras.datasets.mnist.load_data()\n",
    "\n",
    "def preprocess_images(images):\n",
    "  images = images.reshape((images.shape[0], 28, 28, 1)) / 255.\n",
    "  return np.where(images > .5, 1.0, 0.0).astype('float32')\n",
    "\n",
    "train_images = preprocess_images(train_images)\n",
    "test_images = preprocess_images(test_images)\n",
    "\n",
    "train_size = 60000\n",
    "batch_size = 32\n",
    "test_size = 10000\n",
    "\n",
    "train_dataset = (tf.data.Dataset.from_tensor_slices(train_images)\n",
    "                 .shuffle(train_size).batch(batch_size))\n",
    "test_dataset = (tf.data.Dataset.from_tensor_slices(test_images)\n",
    "                .shuffle(test_size).batch(batch_size))"
   ]
  },
  {
   "cell_type": "markdown",
   "metadata": {},
   "source": [
    "## Create Model"
   ]
  },
  {
   "cell_type": "code",
   "execution_count": 5,
   "metadata": {},
   "outputs": [],
   "source": [
    "class CVAE(tf.keras.Model):\n",
    "  \"\"\"Convolutional variational autoencoder.\"\"\"\n",
    "\n",
    "  def __init__(self, latent_dim):\n",
    "    super(CVAE, self).__init__()\n",
    "    self.latent_dim = latent_dim\n",
    "    self.encoder = tf.keras.Sequential(\n",
    "        [\n",
    "            tf.keras.layers.InputLayer(input_shape=(28, 28, 1)),\n",
    "            tf.keras.layers.Conv2D(\n",
    "                filters=32, kernel_size=3, strides=(2, 2), activation='relu'),\n",
    "            tf.keras.layers.Conv2D(\n",
    "                filters=64, kernel_size=3, strides=(2, 2), activation='relu'),\n",
    "            tf.keras.layers.Flatten(),\n",
    "            # No activation\n",
    "            tf.keras.layers.Dense(latent_dim + latent_dim),\n",
    "        ]\n",
    "    )\n",
    "\n",
    "    self.decoder = tf.keras.Sequential(\n",
    "        [\n",
    "            tf.keras.layers.InputLayer(input_shape=(latent_dim,)),\n",
    "            tf.keras.layers.Dense(units=7*7*32, activation=tf.nn.relu),\n",
    "            tf.keras.layers.Reshape(target_shape=(7, 7, 32)),\n",
    "            tf.keras.layers.Conv2DTranspose(\n",
    "                filters=64, kernel_size=3, strides=2, padding='same',\n",
    "                activation='relu'),\n",
    "            tf.keras.layers.Conv2DTranspose(\n",
    "                filters=32, kernel_size=3, strides=2, padding='same',\n",
    "                activation='relu'),\n",
    "            # No activation\n",
    "            tf.keras.layers.Conv2DTranspose(\n",
    "                filters=1, kernel_size=3, strides=1, padding='same'),\n",
    "        ]\n",
    "    )\n",
    "\n",
    "  @tf.function\n",
    "  def sample(self, eps=None):\n",
    "    if eps is None:\n",
    "      eps = tf.random.normal(shape=(100, self.latent_dim))\n",
    "    return self.decode(eps, apply_sigmoid=True)\n",
    "\n",
    "  def encode(self, x):\n",
    "    mean, logvar = tf.split(self.encoder(x), num_or_size_splits=2, axis=1)\n",
    "    return mean, logvar\n",
    "\n",
    "  def reparameterize(self, mean, logvar):\n",
    "    eps = tf.random.normal(shape=mean.shape)\n",
    "    return eps * tf.exp(logvar * .5) + mean\n",
    "\n",
    "  def decode(self, z, apply_sigmoid=False):\n",
    "    logits = self.decoder(z)\n",
    "    if apply_sigmoid:\n",
    "      probs = tf.sigmoid(logits)\n",
    "      return probs\n",
    "    return logits"
   ]
  },
  {
   "cell_type": "markdown",
   "metadata": {},
   "source": [
    "## Loss function and optimizer"
   ]
  },
  {
   "cell_type": "code",
   "execution_count": 6,
   "metadata": {},
   "outputs": [],
   "source": [
    "optimizer = tf.keras.optimizers.Adam(1e-4)\n",
    "\n",
    "def log_normal_pdf(sample, mean, logvar, raxis=1):\n",
    "  log2pi = tf.math.log(2. * np.pi)\n",
    "  return tf.reduce_sum(\n",
    "      -.5 * ((sample - mean) ** 2. * tf.exp(-logvar) + logvar + log2pi),\n",
    "      axis=raxis)\n",
    "\n",
    "\n",
    "def compute_loss(model, x):\n",
    "  mean, logvar = model.encode(x)\n",
    "  z = model.reparameterize(mean, logvar)\n",
    "  x_logit = model.decode(z)\n",
    "  cross_ent = tf.nn.sigmoid_cross_entropy_with_logits(logits=x_logit, labels=x)\n",
    "  logpx_z = -tf.reduce_sum(cross_ent, axis=[1, 2, 3])\n",
    "  logpz = log_normal_pdf(z, 0., 0.)\n",
    "  logqz_x = log_normal_pdf(z, mean, logvar)\n",
    "  return -tf.reduce_mean(logpx_z + logpz - logqz_x)\n",
    "\n",
    "\n",
    "@tf.function\n",
    "def train_step(model, x, optimizer):\n",
    "  \"\"\"Executes one training step and returns the loss.\n",
    "\n",
    "  This function computes the loss and gradients, and uses the latter to\n",
    "  update the model's parameters.\n",
    "  \"\"\"\n",
    "  with tf.GradientTape() as tape:\n",
    "    loss = compute_loss(model, x)\n",
    "  gradients = tape.gradient(loss, model.trainable_variables)\n",
    "  optimizer.apply_gradients(zip(gradients, model.trainable_variables))"
   ]
  },
  {
   "cell_type": "markdown",
   "metadata": {},
   "source": [
    "## Train Images"
   ]
  },
  {
   "cell_type": "code",
   "execution_count": 9,
   "metadata": {},
   "outputs": [
    {
     "name": "stdout",
     "output_type": "stream",
     "text": [
      "Epoch: 10, Test set ELBO: -156.5928955078125, time elapse for current epoch: 161.39007902145386\n"
     ]
    }
   ],
   "source": [
    "epochs = 10\n",
    "# set the dimensionality of the latent space to a plane for visualization later\n",
    "latent_dim = 2\n",
    "num_examples_to_generate = 16\n",
    "\n",
    "# keeping the random vector constant for generation (prediction) so\n",
    "# it will be easier to see the improvement.\n",
    "random_vector_for_generation = tf.random.normal(\n",
    "\tshape=[num_examples_to_generate, latent_dim])\n",
    "model = CVAE(latent_dim)\n",
    "\n",
    "for epoch in range(1, epochs + 1):\n",
    "\tstart_time = time.time()\n",
    "\tfor train_x in train_dataset:\n",
    "\t\ttrain_step(model, train_x, optimizer)\n",
    "\tend_time = time.time()\n",
    "\n",
    "\tloss = tf.keras.metrics.Mean()\n",
    "\tfor test_x in test_dataset:\n",
    "\t\tloss(compute_loss(model, test_x))\n",
    "\telbo = -loss.result()\n",
    "\tdisplay.clear_output(wait=False)\n",
    "\tprint('Epoch: {}, Test set ELBO: {}, time elapse for current epoch: {}'\n",
    "\t\t.format(epoch, elbo, end_time - start_time))"
   ]
  },
  {
   "cell_type": "code",
   "execution_count": 47,
   "metadata": {},
   "outputs": [],
   "source": [
    "# Save tensorflow model weights\n",
    "model.save_weights('models/tensorflow_mnist_weights')\n",
    "\n",
    "# Sample code to load saved datad\n",
    "# Create a new model\n",
    "# loaded_model = CVAE(latent_dim)\n",
    "# Load weights from path\n",
    "# loaded_model.load_weights('models/vae_mnist_weights')"
   ]
  },
  {
   "cell_type": "markdown",
   "metadata": {},
   "source": [
    "## Display Images"
   ]
  },
  {
   "cell_type": "code",
   "execution_count": 46,
   "metadata": {},
   "outputs": [
    {
     "data": {
      "text/plain": [
       "TensorShape([16, 28, 28, 1])"
      ]
     },
     "execution_count": 46,
     "metadata": {},
     "output_type": "execute_result"
    }
   ],
   "source": [
    "for test_batch in test_dataset.take(1):\n",
    "\ttest_sample = test_batch[0:num_examples_to_generate, :, :, :]\n",
    "mean, logvar = model.encode(test_sample)\n",
    "predictions = model.sample(model.reparameterize(mean, logvar))\n",
    "predictions.shape"
   ]
  },
  {
   "cell_type": "code",
   "execution_count": 30,
   "metadata": {},
   "outputs": [],
   "source": [
    "def generate_images(model, test_sample):\n",
    "\tmean, logvar = model.encode(test_sample)\n",
    "\tz = model.reparameterize(mean, logvar)\n",
    "\tpredictions = model.sample(z)\n",
    "\tfig = plt.figure(figsize=(4, 4))\n",
    "\n",
    "\tprint(f'Predictions shape: {predictions.shape}')\n",
    "\n",
    "\tfor i in range(predictions.shape[0]):\n",
    "\t\tplt.subplot(4, 4, i + 1)\n",
    "\t\tplt.imshow(predictions[i, :, :, 0], cmap='gray')\n",
    "\t\tplt.axis('off')\n",
    "\n",
    "\t# tight_layout minimizes the overlap between 2 sub-plots\n",
    "\tplt.show()"
   ]
  },
  {
   "cell_type": "code",
   "execution_count": 34,
   "metadata": {},
   "outputs": [
    {
     "name": "stdout",
     "output_type": "stream",
     "text": [
      "(16, 28, 28, 1)\n",
      "Predictions shape: (16, 28, 28, 1)\n"
     ]
    },
    {
     "data": {
      "image/png": "[encoded data removed]",
      "text/plain": [
       "<Figure size 400x400 with 16 Axes>"
      ]
     },
     "metadata": {},
     "output_type": "display_data"
    }
   ],
   "source": [
    "# Pick a sample of the test set for generating output images\n",
    "assert batch_size >= num_examples_to_generate\n",
    "for test_batch in test_dataset.take(1):\n",
    "\ttest_sample = test_batch[0:num_examples_to_generate, :, :, :]\n",
    "\n",
    "print(test_sample.shape)\n",
    "\n",
    "generate_images(model, test_sample)"
   ]
  }
 ],
 "metadata": {
  "kernelspec": {
   "display_name": "Python 3.9.12 ('base')",
   "language": "python",
   "name": "python3"
  },
  "language_info": {
   "codemirror_mode": {
    "name": "ipython",
    "version": 3
   },
   "file_extension": ".py",
   "mimetype": "text/x-python",
   "name": "python",
   "nbconvert_exporter": "python",
   "pygments_lexer": "ipython3",
   "version": "3.9.12"
  },
  "orig_nbformat": 4,
  "vscode": {
   "interpreter": {
    "hash": "4cc37c5bde6f2c4a9abbb0f88e1ba241d8320ce9d430498035b829e5a00e7fb9"
   }
  }
 },
 "nbformat": 4,
 "nbformat_minor": 2
}
