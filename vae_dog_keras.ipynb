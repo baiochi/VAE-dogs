{
 "cells": [
  {
   "cell_type": "markdown",
   "metadata": {},
   "source": [
    "# Variational AutoEncoder in Dog Breed Identification\n",
    "--- "
   ]
  },
  {
   "cell_type": "markdown",
   "metadata": {},
   "source": [
    "Challenge for the Hand Talk [selective process](https://handtalk.notion.site/VAE-Dogs-82e2c5f64d7d43d38fc586a6b20d5268).  \n",
    "*author: [@baiochi](http://github.com/baiochi)*\n",
    "\n",
    "Implementation example using `Keras`."
   ]
  },
  {
   "cell_type": "code",
   "execution_count": 25,
   "metadata": {},
   "outputs": [
    {
     "data": {
      "text/html": [
       "<details>\n",
       "<summary>Click to view session information</summary>\n",
       "<pre>\n",
       "-----\n",
       "PIL                 9.2.0\n",
       "keras               2.10.0\n",
       "matplotlib          3.5.1\n",
       "numpy               1.21.5\n",
       "session_info        1.0.0\n",
       "tensorflow          2.10.0\n",
       "-----\n",
       "</pre>\n",
       "<details>\n",
       "<summary>Click to view modules imported as dependencies</summary>\n",
       "<pre>\n",
       "OpenSSL                                     22.0.0\n",
       "PyObjCTools                                 NA\n",
       "aa8f2297d25b4dc6fd3d98411eb3ba53823c4f42    NA\n",
       "absl                                        NA\n",
       "appnope                                     0.1.2\n",
       "asttokens                                   NA\n",
       "astunparse                                  1.6.3\n",
       "backcall                                    0.2.0\n",
       "bcrypt                                      3.2.0\n",
       "boto3                                       1.24.28\n",
       "botocore                                    1.27.28\n",
       "bottleneck                                  1.3.5\n",
       "brotli                                      NA\n",
       "certifi                                     2022.09.14\n",
       "cffi                                        1.15.1\n",
       "chardet                                     4.0.0\n",
       "charset_normalizer                          2.0.4\n",
       "cloudpickle                                 2.0.0\n",
       "colorama                                    0.4.5\n",
       "cryptography                                37.0.1\n",
       "cycler                                      0.10.0\n",
       "cython_runtime                              NA\n",
       "dateutil                                    2.8.2\n",
       "debugpy                                     1.5.1\n",
       "decorator                                   5.1.1\n",
       "defusedxml                                  0.7.1\n",
       "dill                                        0.3.1.1\n",
       "executing                                   0.9.0\n",
       "flatbuffers                                 22.9.24\n",
       "fsspec                                      2022.7.1\n",
       "gast                                        NA\n",
       "google                                      NA\n",
       "h5py                                        3.7.0\n",
       "idna                                        3.3\n",
       "importlib_metadata                          NA\n",
       "ipykernel                                   6.15.2\n",
       "ipython_genutils                            0.2.0\n",
       "jedi                                        0.18.1\n",
       "jmespath                                    0.10.0\n",
       "jupyter_server                              1.18.1\n",
       "kiwisolver                                  1.4.2\n",
       "lz4                                         3.1.3\n",
       "matplotlib_inline                           0.1.6\n",
       "mkl                                         2.4.0\n",
       "mpl_toolkits                                NA\n",
       "numexpr                                     2.8.3\n",
       "opt_einsum                                  v3.3.0\n",
       "packaging                                   21.3\n",
       "pandas                                      1.4.4\n",
       "parso                                       0.8.3\n",
       "pexpect                                     4.8.0\n",
       "pickle5                                     NA\n",
       "pickleshare                                 0.7.5\n",
       "pkg_resources                               NA\n",
       "prompt_toolkit                              3.0.20\n",
       "psutil                                      5.9.0\n",
       "ptyprocess                                  0.7.0\n",
       "pure_eval                                   0.2.2\n",
       "pyarrow                                     7.0.0\n",
       "pydev_ipython                               NA\n",
       "pydevconsole                                NA\n",
       "pydevd                                      2.6.0\n",
       "pydevd_concurrency_analyser                 NA\n",
       "pydevd_file_utils                           NA\n",
       "pydevd_plugins                              NA\n",
       "pydevd_tracing                              NA\n",
       "pygments                                    2.11.2\n",
       "pyparsing                                   3.0.9\n",
       "pytz                                        2022.1\n",
       "requests                                    2.28.1\n",
       "scipy                                       1.7.3\n",
       "setuptools                                  63.4.1\n",
       "six                                         1.16.0\n",
       "snappy                                      NA\n",
       "socks                                       1.7.1\n",
       "sphinxcontrib                               NA\n",
       "stack_data                                  0.2.0\n",
       "tblib                                       1.7.0\n",
       "tensorboard                                 2.10.1\n",
       "termcolor                                   1.1.0\n",
       "tornado                                     6.1\n",
       "traitlets                                   5.1.1\n",
       "typing_extensions                           NA\n",
       "urllib3                                     1.26.11\n",
       "wcwidth                                     0.2.5\n",
       "wrapt                                       1.12.1\n",
       "zipp                                        NA\n",
       "zmq                                         23.2.0\n",
       "zope                                        NA\n",
       "</pre>\n",
       "</details> <!-- seems like this ends pre, so might as well be explicit -->\n",
       "<pre>\n",
       "-----\n",
       "IPython             8.4.0\n",
       "jupyter_client      6.1.12\n",
       "jupyter_core        4.10.0\n",
       "jupyterlab          3.4.4\n",
       "notebook            6.4.12\n",
       "-----\n",
       "Python 3.9.12 (main, Apr  5 2022, 01:53:17) [Clang 12.0.0 ]\n",
       "macOS-10.15.7-x86_64-i386-64bit\n",
       "-----\n",
       "Session information updated at 2022-09-28 23:42\n",
       "</pre>\n",
       "</details>"
      ],
      "text/plain": [
       "<IPython.core.display.HTML object>"
      ]
     },
     "execution_count": 25,
     "metadata": {},
     "output_type": "execute_result"
    }
   ],
   "source": [
    "import numpy as np\n",
    "import matplotlib.pyplot as plt\n",
    "import os\n",
    "from PIL import Image\n",
    "import tensorflow as tf\n",
    "from tensorflow import keras\n",
    "\n",
    "import session_info\n",
    "session_info.show()"
   ]
  },
  {
   "cell_type": "code",
   "execution_count": 32,
   "metadata": {},
   "outputs": [],
   "source": [
    "IMAGES_LIST = os.listdir('database/sample_train/training_class')\n",
    "IMAGES_PATH = 'database/sample_train/'\n",
    "BATCH_SIZE = 256\n",
    "EPOCHS = 10\n",
    "IMAGE_DIM = (64, 64, 3)\n",
    "LATENT_DIM = (16, 16, 32)"
   ]
  },
  {
   "cell_type": "markdown",
   "metadata": {},
   "source": [
    "# Load and preprocess images"
   ]
  },
  {
   "cell_type": "code",
   "execution_count": 3,
   "metadata": {},
   "outputs": [
    {
     "name": "stdout",
     "output_type": "stream",
     "text": [
      "Found 10222 images belonging to 1 classes.\n"
     ]
    }
   ],
   "source": [
    "from keras.preprocessing.image import ImageDataGenerator\n",
    "\n",
    "train_datagen = ImageDataGenerator(rescale=1./255)\n",
    "train_batches = train_datagen.flow_from_directory(\n",
    "\tdirectory=IMAGES_PATH,\t # this folder contains just a subset of the training data\n",
    "\ttarget_size=(64, 64),\n",
    "\tbatch_size=BATCH_SIZE,\n",
    "\tclass_mode='input',\n",
    "\tsubset='training'\n",
    ")"
   ]
  },
  {
   "cell_type": "markdown",
   "metadata": {},
   "source": [
    "# Encoder"
   ]
  },
  {
   "cell_type": "code",
   "execution_count": 4,
   "metadata": {},
   "outputs": [
    {
     "name": "stdout",
     "output_type": "stream",
     "text": [
      "Encoder inputs shape: (None, 64, 64, 3)\n",
      "Encoder outputs shape: (None, 16, 16, 32)\n",
      "Model: \"encoder\"\n",
      "_________________________________________________________________\n",
      " Layer (type)                Output Shape              Param #   \n",
      "=================================================================\n",
      " input_1 (InputLayer)        [(None, 64, 64, 3)]       0         \n",
      "                                                                 \n",
      " conv2d (Conv2D)             (None, 64, 64, 48)        1344      \n",
      "                                                                 \n",
      " max_pooling2d (MaxPooling2D  (None, 32, 32, 48)       0         \n",
      " )                                                               \n",
      "                                                                 \n",
      " conv2d_1 (Conv2D)           (None, 32, 32, 96)        41568     \n",
      "                                                                 \n",
      " max_pooling2d_1 (MaxPooling  (None, 16, 16, 96)       0         \n",
      " 2D)                                                             \n",
      "                                                                 \n",
      " conv2d_2 (Conv2D)           (None, 16, 16, 32)        3104      \n",
      "                                                                 \n",
      "=================================================================\n",
      "Total params: 46,016\n",
      "Trainable params: 46,016\n",
      "Non-trainable params: 0\n",
      "_________________________________________________________________\n"
     ]
    }
   ],
   "source": [
    "from keras.layers import Input, Conv2D, MaxPooling2D, UpSampling2D\n",
    "\n",
    "# Create encoder layers\n",
    "encoder_inputs = keras.Input(shape=IMAGE_DIM)\n",
    "x = Conv2D(48, (3, 3), activation=\"relu\", padding=\"same\")(encoder_inputs)\n",
    "x = MaxPooling2D((2, 2), padding='same')(x)\n",
    "x = Conv2D(96, (3, 3), activation=\"relu\", padding=\"same\")(x)\n",
    "x = MaxPooling2D((2, 2), padding='same')(x)\n",
    "encoder_outputs = Conv2D(32, (1, 1), activation='relu', padding='same')(x)\n",
    "\n",
    "# Build encoder\n",
    "encoder = keras.Model(encoder_inputs, encoder_outputs, name=\"encoder\")\n",
    "\n",
    "print(f'Encoder inputs shape: {encoder_inputs.shape}')\n",
    "print(f'Encoder outputs shape: {encoder_outputs.shape}')\n",
    "encoder.summary()"
   ]
  },
  {
   "cell_type": "markdown",
   "metadata": {},
   "source": [
    "# Decoder"
   ]
  },
  {
   "cell_type": "code",
   "execution_count": 5,
   "metadata": {},
   "outputs": [
    {
     "name": "stdout",
     "output_type": "stream",
     "text": [
      "decoder inputs: (None, 16, 16, 32)\n",
      "decoder outputs: (None, 64, 64, 3)\n",
      "Model: \"decoder\"\n",
      "_________________________________________________________________\n",
      " Layer (type)                Output Shape              Param #   \n",
      "=================================================================\n",
      " input_2 (InputLayer)        [(None, 16, 16, 32)]      0         \n",
      "                                                                 \n",
      " conv2d_3 (Conv2D)           (None, 16, 16, 96)        3168      \n",
      "                                                                 \n",
      " up_sampling2d (UpSampling2D  (None, 32, 32, 96)       0         \n",
      " )                                                               \n",
      "                                                                 \n",
      " conv2d_4 (Conv2D)           (None, 32, 32, 96)        83040     \n",
      "                                                                 \n",
      " up_sampling2d_1 (UpSampling  (None, 64, 64, 96)       0         \n",
      " 2D)                                                             \n",
      "                                                                 \n",
      " conv2d_5 (Conv2D)           (None, 64, 64, 48)        41520     \n",
      "                                                                 \n",
      " conv2d_6 (Conv2D)           (None, 64, 64, 3)         1299      \n",
      "                                                                 \n",
      "=================================================================\n",
      "Total params: 129,027\n",
      "Trainable params: 129,027\n",
      "Non-trainable params: 0\n",
      "_________________________________________________________________\n"
     ]
    }
   ],
   "source": [
    "# Create decoder layers\n",
    "latent_inputs = keras.Input(shape=LATENT_DIM)\n",
    "x = Conv2D(96, (1, 1), activation=\"relu\", padding=\"same\")(latent_inputs)\n",
    "x = UpSampling2D((2, 2))(x)\n",
    "x = Conv2D(96, (3, 3), activation='relu', padding='same')(x)\n",
    "x = UpSampling2D((2, 2))(x)\n",
    "x = Conv2D(48, (3, 3), activation='relu', padding='same')(x)\n",
    "decoder_outputs = Conv2D(3, (3, 3), activation='sigmoid', padding='same')(x)\n",
    "\n",
    "# Build decoder\n",
    "decoder = keras.Model(latent_inputs, decoder_outputs, name=\"decoder\")\n",
    "\n",
    "print(f'decoder inputs: {latent_inputs.shape}')\n",
    "print(f'decoder outputs: {decoder_outputs.shape}')\n",
    "decoder.summary()"
   ]
  },
  {
   "cell_type": "markdown",
   "metadata": {},
   "source": [
    "# Variational AutoEncoder"
   ]
  },
  {
   "cell_type": "code",
   "execution_count": 6,
   "metadata": {},
   "outputs": [
    {
     "name": "stdout",
     "output_type": "stream",
     "text": [
      "\n",
      "autoencoder inputs: (None, 64, 64, 3)\n",
      "Model: \"vae\"\n",
      "_________________________________________________________________\n",
      " Layer (type)                Output Shape              Param #   \n",
      "=================================================================\n",
      " input_1 (InputLayer)        [(None, 64, 64, 3)]       0         \n",
      "                                                                 \n",
      " conv2d (Conv2D)             (None, 64, 64, 48)        1344      \n",
      "                                                                 \n",
      " max_pooling2d (MaxPooling2D  (None, 32, 32, 48)       0         \n",
      " )                                                               \n",
      "                                                                 \n",
      " conv2d_1 (Conv2D)           (None, 32, 32, 96)        41568     \n",
      "                                                                 \n",
      " max_pooling2d_1 (MaxPooling  (None, 16, 16, 96)       0         \n",
      " 2D)                                                             \n",
      "                                                                 \n",
      " conv2d_2 (Conv2D)           (None, 16, 16, 32)        3104      \n",
      "                                                                 \n",
      " decoder (Functional)        (None, 64, 64, 3)         129027    \n",
      "                                                                 \n",
      "=================================================================\n",
      "Total params: 175,043\n",
      "Trainable params: 175,043\n",
      "Non-trainable params: 0\n",
      "_________________________________________________________________\n"
     ]
    }
   ],
   "source": [
    "# Build variational autoencoder\n",
    "auto_encoder_inputs = decoder(encoder_outputs)\n",
    "vae = keras.Model(encoder_inputs, auto_encoder_inputs, name=\"vae\")\n",
    "vae.compile(optimizer='Adam', loss='binary_crossentropy')\n",
    "print(f'\\nautoencoder inputs: {auto_encoder_inputs.shape}')\n",
    "vae.summary()"
   ]
  },
  {
   "cell_type": "code",
   "execution_count": 7,
   "metadata": {},
   "outputs": [
    {
     "name": "stdout",
     "output_type": "stream",
     "text": [
      "Epoch 1/10\n",
      "Epoch 2/10\n",
      "Epoch 3/10\n",
      "Epoch 4/10\n",
      "Epoch 5/10\n",
      "Epoch 6/10\n",
      "Epoch 7/10\n",
      "Epoch 8/10\n",
      "Epoch 9/10\n",
      "Epoch 10/10\n"
     ]
    }
   ],
   "source": [
    "# Train model\n",
    "history = vae.fit(\n",
    "\ttrain_batches, \n",
    "\tepochs=EPOCHS,\n",
    "\tbatch_size=BATCH_SIZE,\n",
    "\tverbose=10)"
   ]
  },
  {
   "cell_type": "code",
   "execution_count": 8,
   "metadata": {},
   "outputs": [],
   "source": [
    "# Save Model\n",
    "vae.save('vae_dog_keras_v1.h5')"
   ]
  },
  {
   "cell_type": "markdown",
   "metadata": {},
   "source": [
    "# Visualizing sample images"
   ]
  },
  {
   "cell_type": "code",
   "execution_count": 9,
   "metadata": {},
   "outputs": [
    {
     "name": "stdout",
     "output_type": "stream",
     "text": [
      "1/1 [==============================] - 0s 297ms/step\n",
      "1/1 [==============================] - 0s 120ms/step\n"
     ]
    },
    {
     "data": {
      "image/png": "[encoded data removed]",
      "text/plain": [
       "<Figure size 1000x500 with 3 Axes>"
      ]
     },
     "metadata": {},
     "output_type": "display_data"
    }
   ],
   "source": [
    "plt.figure(figsize=(10,5))\n",
    "plt.subplot(1,3,1)\n",
    "\n",
    "# Get sample image from batch\n",
    "sample_image = next(iter(train_batches))[0][0]\n",
    "\n",
    "# Create latent image representation with encoder\n",
    "latent_image = encoder.predict(sample_image.reshape(1, IMAGE_DIM[0], IMAGE_DIM[1], IMAGE_DIM[2]))\n",
    "\n",
    "# Flatten latent image to plot\n",
    "mx = np.max(latent_image[0])\n",
    "mn = np.min(latent_image[0])\n",
    "latent_image_flat = ((latent_image[0] - mn) * 255/(mx - mn)).flatten(order='F')\n",
    "latent_image_flat = latent_image_flat[:IMAGE_DIM[0]*IMAGE_DIM[1]].reshape(IMAGE_DIM[0], IMAGE_DIM[1])\n",
    "\n",
    "# Create reconstructed image with decoder\n",
    "decoded_image = decoder.predict(latent_image).reshape(IMAGE_DIM[0], IMAGE_DIM[1], IMAGE_DIM[2])\n",
    "\n",
    "# Plot original image\n",
    "plt.title('Original image', loc='left', pad=10); plt.axis('off')\n",
    "plt.imshow(sample_image);\n",
    "\n",
    "# Plot latent image\n",
    "plt.subplot(1,3,2)\n",
    "plt.title('Latent image', loc='left', pad=10); plt.axis('off')\n",
    "plt.imshow(latent_image_flat);\n",
    "\n",
    "# Plot reconstructed image\n",
    "plt.subplot(1,3,3)\n",
    "plt.title('Reconstructed image', loc='left', pad=10); plt.axis('off')\n",
    "plt.imshow(decoded_image);"
   ]
  },
  {
   "cell_type": "code",
   "execution_count": 39,
   "metadata": {},
   "outputs": [
    {
     "data": {
      "text/plain": [
       "1815"
      ]
     },
     "execution_count": 39,
     "metadata": {},
     "output_type": "execute_result"
    }
   ],
   "source": []
  },
  {
   "cell_type": "code",
   "execution_count": 42,
   "metadata": {},
   "outputs": [
    {
     "name": "stderr",
     "output_type": "stream",
     "text": [
      "/var/folders/_m/3m0bcc4n6h73gny0bt6_g4x80000gn/T/ipykernel_74403/951230046.py:6: DeprecationWarning: ANTIALIAS is deprecated and will be removed in Pillow 10 (2023-07-01). Use Resampling.LANCZOS instead.\n",
      "  img = img.resize((100,int(img.size[1]/(img.size[0]/100))), Image.ANTIALIAS)\n"
     ]
    },
    {
     "name": "stdout",
     "output_type": "stream",
     "text": [
      "313/313 [==============================] - 50s 160ms/step\n"
     ]
    }
   ],
   "source": [
    "# CREATE 10000 CROPPED IMAGES\n",
    "x = np.random.choice(np.arange(len(IMAGES_LIST)),10)\n",
    "images = np.zeros((10000,64,64,3))\n",
    "for i in range(len(x)):\n",
    "    img = Image.open(IMAGES_PATH + 'training_class/'+ IMAGES_LIST[x[i]])\n",
    "    img = img.resize((100,int(img.size[1]/(img.size[0]/100))), Image.ANTIALIAS)\n",
    "    img = img.crop((18, 0, 82, 64))\n",
    "    images[i,:,:,:] = np.asarray(img).astype('float32') / 255.\n",
    "    #if i%1000==0: print(i)\n",
    "        \n",
    "# CALCULATE ELLIPSOID FROM 10000 IMAGES        \n",
    "encoded_imgs = encoder.predict(images)\n",
    "sz = LATENT_DIM[0] * LATENT_DIM[1] * LATENT_DIM[2]\n",
    "encoded_imgs = encoded_imgs.reshape((-1,sz))\n",
    "mm = np.mean(encoded_imgs,axis=0)\n",
    "ss = np.cov(encoded_imgs,rowvar=False)\n",
    "\n",
    "# GENERATE 9 RANDOM DOG IMAGES\n",
    "generated = np.random.multivariate_normal(mm,ss,9)\n",
    "generated = generated.reshape((-1,LATENT_DIM[0],LATENT_DIM[1],LATENT_DIM[2]))"
   ]
  },
  {
   "cell_type": "code",
   "execution_count": 43,
   "metadata": {},
   "outputs": [
    {
     "name": "stdout",
     "output_type": "stream",
     "text": [
      "1/1 [==============================] - 0s 113ms/step\n"
     ]
    },
    {
     "data": {
      "text/plain": [
       "<matplotlib.image.AxesImage at 0x7fec7f2e01f0>"
      ]
     },
     "execution_count": 43,
     "metadata": {},
     "output_type": "execute_result"
    },
    {
     "data": {
      "image/png": "[encoded data removed]",
      "text/plain": [
       "<Figure size 640x480 with 1 Axes>"
      ]
     },
     "metadata": {},
     "output_type": "display_data"
    }
   ],
   "source": [
    "k = 1\n",
    "decoded_image = decoder.predict(generated[k*3].reshape((-1,LATENT_DIM[0],LATENT_DIM[1],LATENT_DIM[2])))\n",
    "plt.imshow(decoded_image[0])#.reshape((64,64,3))"
   ]
  },
  {
   "cell_type": "markdown",
   "metadata": {},
   "source": [
    "## Sample data predictions"
   ]
  },
  {
   "cell_type": "code",
   "execution_count": 23,
   "metadata": {},
   "outputs": [],
   "source": [
    "def generate_images(\n",
    "\tmodel:keras.Model, n:int, img_size:int, latent_dim:int,\n",
    "\tscale:float=1.0, show_fig:bool=True) -> np.ndarray:\n",
    "\t\"\"\"Generate and plot n images from the model(VAE), sampled by a Gaussian distribution.\n",
    "\n",
    "\tParameters:\n",
    "\t\tmodel (keras.Model): The model to use for generation.\n",
    "\t\tn (int): The number of images to generate.\n",
    "\t\timg_size (int): The length of the predicted images, assuming it have a square format.\n",
    "\t\tlatent_dim (int): The dimension of the latent space.\n",
    "\t\tscale (float): The scale of the latent space to sample from. Higher values will result in more noise, \n",
    "\t\tand lower will show more similar images.\n",
    "\t\tshow_fig (bool): Whether to show the figure or not.\n",
    "\t\n",
    "\tReturns:\n",
    "\t\tnp.ndarray: A tensor representation of the generated images.\n",
    "\t\"\"\"\n",
    "\n",
    "\t# Sample from the latent space\n",
    "\tz = np.random.normal(size=(n, latent_dim)) * scale\n",
    "\n",
    "\t# Decode the samples\n",
    "\tpredictions = model.predict(z)\n",
    "\n",
    "\t# Rescale the images to the original scale\n",
    "\tpredictions = (predictions * 255).astype(\"uint8\")\n",
    "\n",
    "\t# Plot the images\n",
    "\tif show_fig:\n",
    "\t\tfig = plt.figure(figsize=(10, 10))\n",
    "\t\tfor i in range(n):\n",
    "\t\t\tax = fig.add_subplot(10, 10, i + 1)\n",
    "\t\t\tplt.imshow(predictions[i, :, :, 0], cmap=\"gray\")\n",
    "\t\t\tplt.axis(\"off\")\n",
    "\t\tplt.show()\n",
    "\n",
    "\t# Return the predictions\n",
    "\treturn predictions"
   ]
  },
  {
   "cell_type": "code",
   "execution_count": null,
   "metadata": {},
   "outputs": [],
   "source": [
    "generate_images(vae, 6, IMAGE_DIM[0], LATENT_DIM[0], scale=1.0, show_fig=True)"
   ]
  },
  {
   "cell_type": "markdown",
   "metadata": {},
   "source": [
    "## Display grid of samples"
   ]
  },
  {
   "cell_type": "code",
   "execution_count": 13,
   "metadata": {},
   "outputs": [],
   "source": [
    "def generate_images_from_grid(model, n, img_size, scale=1.0, sample:str='gaussian') -> plt.figure:\n",
    "\t\"\"\"Generate and plot n images from the model, sampled by a Gaussian distribution.\n",
    "\n",
    "\tParameters:\n",
    "\t\tmodel (keras.Model): The model to use for generation.\n",
    "\t\tn (int): The number of images to generate.\n",
    "\t\timg_size (int): The length of the predicted images, assuming it have a square format.\n",
    "\t\tscale (float): The scale of the latent space to sample from. Higher values will result in more noise, \n",
    "\t\tand lower will show more similar images.\n",
    "\t\tsample (str): The type of sampling to use. Can be 'gaussian' or 'grid'.\n",
    "\t\n",
    "\tReturns:\n",
    "\t\tA matplotlib figure containing the generated images.\n",
    "\t\"\"\"\n",
    "\n",
    "\t# Linearly spaced coordinates corresponding to the 2D plot of digit classes in the latent space\n",
    "\tgrid_x = np.linspace(-scale, scale, n)\n",
    "\tgrid_y = np.linspace(-scale, scale, n)[::-1]\n",
    "\tgrid_x, grid_y = np.meshgrid(grid_x, grid_y)\n",
    "\tgrid_x = grid_x.reshape(-1, 1)\n",
    "\tgrid_y = grid_y.reshape(-1, 1)\n",
    "\n",
    "\t# Sample from the linear latent space\n",
    "\tif sample=='linear':\n",
    "\t\tz = np.hstack([grid_x, grid_y])\n",
    "\t# Sample from the Gaussian latent space\n",
    "\telif sample=='gaussian':\n",
    "\t\tz = np.random.normal(size=((n**2), 2)) * scale\n",
    "\telse:\n",
    "\t\traise ValueError(f\"Invalid sample type: {sample}. Select 'linear' or 'gaussian'.\")\n",
    "\n",
    "\t# Generate images from the grid sample values\n",
    "\tpredictions = vae.predict(z)\n",
    "\t\n",
    "\t#predictions = (predictions * 255).astype(\"uint8\")\n",
    "\n",
    "\t# Configure plot\n",
    "\tfig = plt.figure(figsize=(12, 12))\n",
    "\t# Compute coordinates and labels for the plot\n",
    "\tstart_range = img_size // 2\n",
    "\tend_range = (n**2) * img_size + start_range\n",
    "\tpixel_range = np.arange(start_range, end_range, img_size)[:n:]\n",
    "\tsample_range_x = np.round(grid_x, 1)[:n:].T[0]\n",
    "\tsample_range_y = np.round(grid_y, 1)[::n].T[0]\n",
    "\tplt.xticks(pixel_range, sample_range_x)\n",
    "\tplt.yticks(pixel_range, sample_range_y)\n",
    "\tplt.xlabel(\"z[0]\")\n",
    "\tplt.ylabel(\"z[1]\")\n",
    "\n",
    "\t# Display image\n",
    "\tplt.imshow(\n",
    "\t\tpredictions.reshape(\n",
    "\t\t\tn, n, img_size, img_size\n",
    "\t\t\t).transpose(0, 2, 1, 3\n",
    "\t\t\t).reshape(n*img_size, n*img_size), \n",
    "\t\tcmap='gray')\n",
    "\n",
    "\treturn fig"
   ]
  },
  {
   "cell_type": "code",
   "execution_count": null,
   "metadata": {},
   "outputs": [],
   "source": [
    "generate_images_from_grid(vae, 6, 64, 1, 'gaussian').show()"
   ]
  },
  {
   "cell_type": "markdown",
   "metadata": {},
   "source": [
    "# Discussion"
   ]
  },
  {
   "cell_type": "code",
   "execution_count": null,
   "metadata": {},
   "outputs": [],
   "source": []
  }
 ],
 "metadata": {
  "kernelspec": {
   "display_name": "Python 3.9.12 ('base')",
   "language": "python",
   "name": "python3"
  },
  "language_info": {
   "codemirror_mode": {
    "name": "ipython",
    "version": 3
   },
   "file_extension": ".py",
   "mimetype": "text/x-python",
   "name": "python",
   "nbconvert_exporter": "python",
   "pygments_lexer": "ipython3",
   "version": "3.9.12"
  },
  "orig_nbformat": 4,
  "vscode": {
   "interpreter": {
    "hash": "4cc37c5bde6f2c4a9abbb0f88e1ba241d8320ce9d430498035b829e5a00e7fb9"
   }
  }
 },
 "nbformat": 4,
 "nbformat_minor": 2
}
